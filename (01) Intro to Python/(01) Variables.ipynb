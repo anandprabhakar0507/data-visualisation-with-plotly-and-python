{
 "cells": [
  {
   "cell_type": "markdown",
   "metadata": {},
   "source": [
    "#  Variables\n",
    "\n",
    "In Python there are many different types of data. In this lesson we'll learn about how we can assign values to variables.\n",
    "\n",
    "## What is a variable?\n",
    "\n",
    "As the name implies, a variable is something which can change. It is the name we give to a piece of memory used by a computer program. We can think of it as being a container into which we can put different types of data.\n",
    "\n",
    "You can assign a value to a variable by using the <code>=</code> sign; you should think of this as meaning 'is set to', rather than 'is equal to'. The variable name goes on the left-hand side, and the value assigned to the variable goes on the right-hand side. \n",
    "\n",
    "In the cell below I have assigned the value <code>5</code> to the variable named <code>counter</code>."
   ]
  },
  {
   "cell_type": "code",
   "execution_count": null,
   "metadata": {
    "collapsed": true
   },
   "outputs": [],
   "source": [
    "counter = 5"
   ]
  },
  {
   "cell_type": "markdown",
   "metadata": {},
   "source": [
    "In a Jupyter Notebook we can look at the value of a variable by using the <code>print()</code> function:"
   ]
  },
  {
   "cell_type": "code",
   "execution_count": null,
   "metadata": {
    "collapsed": false
   },
   "outputs": [],
   "source": [
    "print(counter)"
   ]
  },
  {
   "cell_type": "markdown",
   "metadata": {},
   "source": [
    "A variable name in Python must begin with an uppercase or lowercase letter or an underscore:\n",
    "````python\n",
    "- _variable1\n",
    "- variable2\n",
    "- Variable2\n",
    "````\n",
    "\n",
    "The variable name may only contain letters, numbers and underscores:\n",
    "````python\n",
    "- this_is_a_variable_name\n",
    "- this_1_2\n",
    "- this_i$'nt\n",
    "````\n",
    "\n",
    "Variable names are case sensitive; the following two variables are different:\n",
    "````python\n",
    "- this_is_a_variable\n",
    "- This_Is_A_Variable\n",
    "````\n",
    "\n",
    "Finally, you may not use Python keywords as variable names. You can see a list of examples by running the code in the cell below. Don't worry about what it means for now; we'll come to it later."
   ]
  },
  {
   "cell_type": "code",
   "execution_count": null,
   "metadata": {
    "collapsed": false
   },
   "outputs": [],
   "source": [
    "import keyword\n",
    "keyword.kwlist"
   ]
  },
  {
   "cell_type": "markdown",
   "metadata": {},
   "source": [
    "You can assign multiple values to multiple variables by using a comma to separate the values and the variables:"
   ]
  },
  {
   "cell_type": "code",
   "execution_count": null,
   "metadata": {
    "collapsed": true
   },
   "outputs": [],
   "source": [
    "var1, var2, var3 = 5,6,7"
   ]
  },
  {
   "cell_type": "markdown",
   "metadata": {},
   "source": [
    "Let's look at the values of these variables:"
   ]
  },
  {
   "cell_type": "code",
   "execution_count": null,
   "metadata": {
    "collapsed": false
   },
   "outputs": [],
   "source": [
    "print(var1, var2, var3)"
   ]
  },
  {
   "cell_type": "markdown",
   "metadata": {},
   "source": [
    "You can also assign a the value of a variable to another variable:"
   ]
  },
  {
   "cell_type": "code",
   "execution_count": null,
   "metadata": {
    "collapsed": false
   },
   "outputs": [],
   "source": [
    "numberOfPies = 10\n",
    "\n",
    "numberOfPlates = numberOfPies\n",
    "\n",
    "print(numberOfPlates)"
   ]
  },
  {
   "cell_type": "markdown",
   "metadata": {},
   "source": [
    "When you assign the value of a variable to another variable, you can change the original value without changing the new variable:"
   ]
  },
  {
   "cell_type": "code",
   "execution_count": null,
   "metadata": {
    "collapsed": false
   },
   "outputs": [],
   "source": [
    "x = 2\n",
    "y = x\n",
    "print(x, y)"
   ]
  },
  {
   "cell_type": "code",
   "execution_count": null,
   "metadata": {
    "collapsed": false
   },
   "outputs": [],
   "source": [
    "x = 5\n",
    "print(x, y)"
   ]
  },
  {
   "cell_type": "markdown",
   "metadata": {},
   "source": [
    "## What have we learnt in this lesson?\n",
    "In this lesson we've learnt what a variable is, what constitutes a valid variable name and how to assign values to variables.\n",
    "\n",
    "We've also seen how to assign multiple values to multiple variables and to set a variable to the value of another variable.\n",
    "\n",
    "Thanks for watching!"
   ]
  },
  {
   "cell_type": "markdown",
   "metadata": {},
   "source": [
    "If you have any questions, please ask in the comments section or email <a href=\"mailto:me@richard-muir.com\">me@richard-muir.com</a>"
   ]
  }
 ],
 "metadata": {
  "kernelspec": {
   "display_name": "Python 3",
   "language": "python",
   "name": "python3"
  },
  "language_info": {
   "codemirror_mode": {
    "name": "ipython",
    "version": 3
   },
   "file_extension": ".py",
   "mimetype": "text/x-python",
   "name": "python",
   "nbconvert_exporter": "python",
   "pygments_lexer": "ipython3",
   "version": "3.4.5"
  }
 },
 "nbformat": 4,
 "nbformat_minor": 0
}
