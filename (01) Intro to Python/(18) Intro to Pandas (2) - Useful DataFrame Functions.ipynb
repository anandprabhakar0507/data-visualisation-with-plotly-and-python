{
 "cells": [
  {
   "cell_type": "markdown",
   "metadata": {},
   "source": [
    "# Intro to Pandas (2) - Useful DataFrame Functions"
   ]
  },
  {
   "cell_type": "markdown",
   "metadata": {},
   "source": [
    "In the last lesson we saw how to read data into a Pandas DataFrame from a .csv file on the internet or on your local machine and we also saw how to account for escape characters when reading a .csv file from a different folder in your local machine.\n",
    "\n",
    "In this lesson we're going to look at some useful DataFrame functions and methods. Whilst we won't use these directly to plot data, utilising these will make your life a lot easier!"
   ]
  },
  {
   "cell_type": "markdown",
   "metadata": {},
   "source": [
    "## Module Imports"
   ]
  },
  {
   "cell_type": "code",
   "execution_count": null,
   "metadata": {
    "collapsed": false
   },
   "outputs": [],
   "source": [
    "#plotly.offline doesn't push your charts to the clouds\n",
    "import plotly.offline as pyo\n",
    "#allows us to create the Data and Figure objects\n",
    "from plotly.graph_objs import *\n",
    "#plotly.plotly pushes your charts to the cloud  \n",
    "import plotly.plotly as py\n",
    "\n",
    "#pandas is a data analysis library\n",
    "import pandas as pd\n",
    "from pandas import DataFrame"
   ]
  },
  {
   "cell_type": "markdown",
   "metadata": {
    "collapsed": false
   },
   "source": [
    "## Using DataFrames"
   ]
  },
  {
   "cell_type": "markdown",
   "metadata": {
    "collapsed": true
   },
   "source": [
    "Before we can learn about some useful DataFrame functions, we first need to create one. This time I'm going to assign the DataFrame to an object, rather than just display it.\n",
    "\n",
    "We can see the DataFrame by typing the object name on its own line:"
   ]
  },
  {
   "cell_type": "code",
   "execution_count": null,
   "metadata": {
    "collapsed": false
   },
   "outputs": [],
   "source": [
    "baseRateData = pd.read_csv(\"http://www.richard-muir.com/data/public/csv/BoEBaseRate.csv\")\n",
    "\n",
    "baseRateData"
   ]
  },
  {
   "cell_type": "markdown",
   "metadata": {},
   "source": [
    "This DataFrame is really long, and it's a pain to keep scrolling up to see the column names. We can use <code>df.head(x)</code> to see the top x rows (df is the conventional abbreviation for DataFrame, which I'll use throughout the course). \n",
    "\n",
    "The default number of rows is 5. Note that this doesn't change the DataFrame, merely how it is displayed on the screen."
   ]
  },
  {
   "cell_type": "code",
   "execution_count": null,
   "metadata": {
    "collapsed": false,
    "scrolled": true
   },
   "outputs": [],
   "source": [
    "baseRateData.head(10)"
   ]
  },
  {
   "cell_type": "code",
   "execution_count": null,
   "metadata": {
    "collapsed": false
   },
   "outputs": [],
   "source": [
    "baseRateData.head()"
   ]
  },
  {
   "cell_type": "markdown",
   "metadata": {},
   "source": [
    "We can also see the bottom x rows using <code>df.tail(x)</code>. Once again, the default is 5."
   ]
  },
  {
   "cell_type": "code",
   "execution_count": null,
   "metadata": {
    "collapsed": false
   },
   "outputs": [],
   "source": [
    "baseRateData.tail(5)"
   ]
  },
  {
   "cell_type": "markdown",
   "metadata": {},
   "source": [
    "That's much more manageable!\n",
    "\n",
    "Before we start looking at more useful functions, let's take a quick tour of a DataFrame.\n",
    "\n",
    "You can see that this DataFrame has 10,486 rows (remember, Python is zero-indexed!) and 3 columns. The left-most column (in bold) is called the index. The index of the DataFrame doesn't necessarily hold any data; instead it allows us to access the data by its location.\n",
    "\n",
    "We can also see the column names of the DataFrame. Used in conjunction with the index, we can reference an exact cell within the DataFrame.\n",
    "\n",
    "We can get some more information about the DataFrame by using the <code>df.info()</code> method."
   ]
  },
  {
   "cell_type": "code",
   "execution_count": null,
   "metadata": {
    "collapsed": false
   },
   "outputs": [],
   "source": [
    "baseRateData.info()"
   ]
  },
  {
   "cell_type": "markdown",
   "metadata": {},
   "source": [
    "This tells us that we are inspecting a DataFrame and that the DataFrame has 10,486 rows (indexed from 0-10,485), and 2 data columns (the index doesn't hold data). It also gives us some information about the type of data stored in each column, as well as the approximate amount of RAM used to hold it.\n",
    "\n",
    "We can get some statistical information on numeric columns by using the <code>df.describe()</code> method:"
   ]
  },
  {
   "cell_type": "code",
   "execution_count": null,
   "metadata": {
    "collapsed": false
   },
   "outputs": [],
   "source": [
    "baseRateData.describe()"
   ]
  },
  {
   "cell_type": "markdown",
   "metadata": {},
   "source": [
    "This has given us some summary statistics for the <code>VALUE</code> column, for example we can see that the average base rate for the time period is 7.14%. This is useful to allow you to get an idea of the shape of your data - if it does not look as you expect after plotting it, something may have gone wrong along the way!"
   ]
  },
  {
   "cell_type": "markdown",
   "metadata": {},
   "source": [
    "Finally, we can get the column names in a DataFrame and store it in a list. This is helpful when we want to plot different data columns on the same chart - we can loop through the column names."
   ]
  },
  {
   "cell_type": "code",
   "execution_count": null,
   "metadata": {
    "collapsed": false
   },
   "outputs": [],
   "source": [
    "baseRateData.columns.tolist()"
   ]
  },
  {
   "cell_type": "markdown",
   "metadata": {},
   "source": [
    "### What have we learnt this lesson?"
   ]
  },
  {
   "cell_type": "markdown",
   "metadata": {},
   "source": [
    "In this lesson we've seen how to restrict the amount of rows that are shown when we view the DataFrame using <code>df.head()</code> and <code>df.tail()</code>. We've also learnt how to describe the DataFrame object, as well as how to obtain some summary statistics.\n",
    "\n",
    "In the next lesson we'll see how to select and access data from a DataFrame."
   ]
  },
  {
   "cell_type": "markdown",
   "metadata": {},
   "source": [
    "If you have any questions, please ask in the comments section or email <a href=\"mailto:me@richard-muir.com\">me@richard-muir.com</a>"
   ]
  }
 ],
 "metadata": {
  "kernelspec": {
   "display_name": "Python 3",
   "language": "python",
   "name": "python3"
  },
  "language_info": {
   "codemirror_mode": {
    "name": "ipython",
    "version": 3
   },
   "file_extension": ".py",
   "mimetype": "text/x-python",
   "name": "python",
   "nbconvert_exporter": "python",
   "pygments_lexer": "ipython3",
   "version": "3.4.5"
  }
 },
 "nbformat": 4,
 "nbformat_minor": 0
}
