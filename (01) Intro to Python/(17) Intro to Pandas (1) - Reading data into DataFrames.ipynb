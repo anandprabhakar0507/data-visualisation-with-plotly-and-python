{
 "cells": [
  {
   "cell_type": "markdown",
   "metadata": {},
   "source": [
    "# Intro to Pandas (1) - Reading data into DataFrames"
   ]
  },
  {
   "cell_type": "markdown",
   "metadata": {},
   "source": [
    "In the coming lessons we're going to take a brief look at the most common data analysis library in Python - Pandas. \n",
    "\n",
    "Pandas is a free and open-source library which let's us manipulate data structures in an easy and intuitive way. Pandas stores data in a way which means that we can pass the data straight from Pandas to Plotly with no problems - the two libraries work really well together.\n",
    "\n",
    "Pandas is a huge module with loads of different features; some of which we'll use in this course and many of which we won't. The function which we'll use most of all is <code>DataFrame()</code>. A Pandas DataFrame stores tabular data, like an Excel spreadsheet, however in Pandas you can't access and edit the cells directly - you instead need to manipulate the data programmatically.\n",
    "\n",
    "In this lesson I'll introduce you to the basic functionality which we'll need to create charts in Plotly:\n",
    "- How to read data in to a Pandas DataFrame\n",
    "\n",
    "In future lessons we'll see:\n",
    "- How to access data from a Pandas DataFrame\n",
    "- How to manipulate data inside a Pandas DataFrame"
   ]
  },
  {
   "cell_type": "markdown",
   "metadata": {},
   "source": [
    "## Module Imports"
   ]
  },
  {
   "cell_type": "markdown",
   "metadata": {},
   "source": [
    "#### Standard Modules\n",
    "\n",
    "In a previous lesson we learnt which modules we'll be using in this course. From now on, we'll import these same modules at the start of every lesson. Here's a recap of what the modules do:\n",
    "\n",
    "- <code>plotly.offline</code> allows us to use plotly's <code>plot</code> function to create your charts without pushing them to the cloud. This is handy when you're developing a chart and don't want multiple beta versions being displayed publicly.\n",
    "\n",
    "- On the other hand, <code>plotly.plotly</code> makes the chart and pushes it to your plotly account in the cloud. We'll use this when we're happy with the chart we've made.\n",
    "\n",
    "- <code>pandas</code> is a great library for data analysis and manipulation. It's very powerful and very complex; a full tutorial on how to use it is far beyond the scope of this course, but there are a few functions that we'll use repeatedly, one of these being a pandas DataFrame."
   ]
  },
  {
   "cell_type": "code",
   "execution_count": null,
   "metadata": {
    "collapsed": false
   },
   "outputs": [],
   "source": [
    "#plotly.offline doesn't push your charts to the clouds\n",
    "import plotly.offline as pyo\n",
    "#allows us to create the Data and Figure objects\n",
    "from plotly.graph_objs import *\n",
    "#plotly.plotly pushes your charts to the cloud  \n",
    "import plotly.plotly as py\n",
    "\n",
    "#pandas is a data analysis library\n",
    "import pandas as pd\n",
    "from pandas import DataFrame"
   ]
  },
  {
   "cell_type": "markdown",
   "metadata": {},
   "source": [
    "You can see in the cell above that we imported the <code>pandas</code> module as <code>'pd'</code>. We can a list of the different functions available to us by typing <code>pd.</code> and pressing <code>tab</code>:"
   ]
  },
  {
   "cell_type": "code",
   "execution_count": null,
   "metadata": {
    "collapsed": true
   },
   "outputs": [],
   "source": [
    "pd."
   ]
  },
  {
   "cell_type": "markdown",
   "metadata": {},
   "source": [
    "### Reading data in to a Pandas DataFrame\n",
    "\n",
    "Before we can pass data to Plotly, we must first obtain it! \n",
    "\n",
    "As part of this course, I've provided loads of different datasets which you can download from my website. All of these datasets are available in the .csv format. We can use pandas to download the .csv data directly from the website and put it straight into a DataFrame.\n",
    "\n",
    "Pandas can also read in data in many different formats (.xls or .json for example), but as the aim of this course is to teach you how to create charts with Plotly, obtaining the data is a secondary concern - as such we'll just use data in a .csv format.\n",
    "\n",
    "To read a .csv file into a Pandas DataFrame, we need to use the <code>pd.read_csv()</code> function. When you've opened the brackets, press <code>shift + tab</code> to see the different arguments which you can pass to the <code>read_csv()</code> function, and then run the cell."
   ]
  },
  {
   "cell_type": "code",
   "execution_count": null,
   "metadata": {
    "collapsed": false
   },
   "outputs": [],
   "source": [
    "pd.read_csv()"
   ]
  },
  {
   "cell_type": "markdown",
   "metadata": {
    "collapsed": true
   },
   "source": [
    "So, despite that the <code>read_csv()</code> function has loads of different options, the error message above tells us that we only need 1 argument to make it run, the <code>filepath_or_buffer</code> - this is the location of the .csv file, either on your local machine or on the internet.\n",
    "\n",
    "Let's read in a .csv file. This file contains observations of the Bank of England base rate from 2/1/1975 to 23/6/16.\n",
    "\n",
    "To access the file from where it is hosted on my website, we need to pass the URL as the argument to <code>pd.read_csv()</code>."
   ]
  },
  {
   "cell_type": "code",
   "execution_count": null,
   "metadata": {
    "collapsed": false
   },
   "outputs": [],
   "source": [
    "pd.read_csv(\"http://www.richard-muir.com/data/public/csv/BoEBaseRate.csv\")"
   ]
  },
  {
   "cell_type": "markdown",
   "metadata": {},
   "source": [
    "We can also read a .csv file from your local machine.\n",
    "\n",
    "If the .csv is in the same folder as the Jupyter Notebook, this is really easy!"
   ]
  },
  {
   "cell_type": "code",
   "execution_count": null,
   "metadata": {
    "collapsed": false
   },
   "outputs": [],
   "source": [
    "pd.read_csv(\"BoEBaseRate.csv\")"
   ]
  },
  {
   "cell_type": "markdown",
   "metadata": {},
   "source": [
    "If the .csv file is in a different location on your machine this is slightly more difficult..."
   ]
  },
  {
   "cell_type": "code",
   "execution_count": null,
   "metadata": {
    "collapsed": false
   },
   "outputs": [],
   "source": [
    "pd.read_csv(\"C:\\Users\\Rytch\\Desktop\\BoEBaseRate.csv\")"
   ]
  },
  {
   "cell_type": "markdown",
   "metadata": {},
   "source": [
    "Passing the filepath directly to <code>pd.read_csv()</code> triggers a Unicode error. \n",
    "\n",
    "What is happening here is that the Python interpreter sees the single backslash (<code> \\ </code>) as an escape character (which we learnt about in Strings (1)), and knows to pass over the escape character and instead treat the following character as text. \n",
    "\n",
    "We can solve this in different ways:\n",
    "\n",
    "- Escape the escape character - replace every single backslash with a double backslash:"
   ]
  },
  {
   "cell_type": "code",
   "execution_count": null,
   "metadata": {
    "collapsed": false
   },
   "outputs": [],
   "source": [
    "pd.read_csv(\"C:\\\\Users\\\\Rytch\\\\Desktop\\\\BoEBaseRate.csv\")"
   ]
  },
  {
   "cell_type": "markdown",
   "metadata": {
    "collapsed": true
   },
   "source": [
    "- Tell Python to expect a raw string - prefix the string with an <code> r </code>"
   ]
  },
  {
   "cell_type": "code",
   "execution_count": null,
   "metadata": {
    "collapsed": false
   },
   "outputs": [],
   "source": [
    "pd.read_csv(r\"C:\\Users\\Rytch\\Desktop\\BoEBaseRate.csv\")"
   ]
  },
  {
   "cell_type": "markdown",
   "metadata": {},
   "source": [
    "It doesn't matter which you use, but I tend to use the second option to allow me to copy and paste the filepath without having to change anything."
   ]
  },
  {
   "cell_type": "markdown",
   "metadata": {},
   "source": [
    "### What have we learnt this lesson?"
   ]
  },
  {
   "cell_type": "markdown",
   "metadata": {},
   "source": [
    "In this lesson we've learnt how to read data into a Pandas DataFrame. We've seen how to get the data from a .csv file hosted on the internet and a .csv file on your local machine. We've also learnt how escape characters can make it slightly more difficult to get data from your local machine, but that we can use two different options to read the data in successfully."
   ]
  },
  {
   "cell_type": "markdown",
   "metadata": {},
   "source": [
    "If you have any questions, please ask in the comments section or email <a href=\"mailto:me@richard-muir.com\">me@richard-muir.com</a>"
   ]
  }
 ],
 "metadata": {
  "kernelspec": {
   "display_name": "Python 3",
   "language": "python",
   "name": "python3"
  },
  "language_info": {
   "codemirror_mode": {
    "name": "ipython",
    "version": 3
   },
   "file_extension": ".py",
   "mimetype": "text/x-python",
   "name": "python",
   "nbconvert_exporter": "python",
   "pygments_lexer": "ipython3",
   "version": "3.4.5"
  }
 },
 "nbformat": 4,
 "nbformat_minor": 0
}
